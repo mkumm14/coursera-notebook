{
 "cells": [
  {
   "cell_type": "markdown",
   "id": "0e8c8d1e-5e3a-405a-a673-c33c48507744",
   "metadata": {},
   "source": [
    "# Data Science Tools and Ecosystem\n"
   ]
  },
  {
   "cell_type": "markdown",
   "id": "4e815ed3-93b2-4d2c-a25d-226955743970",
   "metadata": {},
   "source": [
    "In this notebook, Data Science Tools and Ecosystem are summarized."
   ]
  },
  {
   "cell_type": "markdown",
   "id": "3983d5f5-3162-404a-9be2-ecb3df653537",
   "metadata": {},
   "source": [
    "**Objectives:**\r\n",
    "\r\n",
    "- List popular languages for Data Science\r\n",
    "- Identify commonly used libraries in Data Science\r\n",
    "- Understand development environment tools used in Data Science\r\n",
    "- Perform basic arithmetic operations in Python\r\n",
    "- Convert time units (minutes to hours) using Python\r\n"
   ]
  },
  {
   "cell_type": "markdown",
   "id": "9a097878-fe37-450e-9564-8563bbe268ec",
   "metadata": {},
   "source": [
    "Some of the popular languages that Data Scientists use are:\r\n",
    "1. Python\r\n",
    "2. R\r\n",
    "3. SQL\r\n",
    "4. Julia\r\n",
    "5. Java\r\n"
   ]
  },
  {
   "cell_type": "markdown",
   "id": "827948ac-4a34-4fd8-8714-cc046b43da6a",
   "metadata": {},
   "source": [
    "Some of the commonly used libraries used by Data Scientists include:\r\n",
    "1. NumPy\r\n",
    "2. Pandas\r\n",
    "3. Matplotlib\r\n",
    "4. Scikit-learn\r\n",
    "5. TensorFlow\r\n"
   ]
  },
  {
   "cell_type": "markdown",
   "id": "9dfa3bb2-7937-45ca-a1be-ed7d01f6ad58",
   "metadata": {},
   "source": [
    "| Data Science Tools        |\r\n",
    "|---------------------------|\r\n",
    "| Jupyter Notebooks          |\r\n",
    "| RStudio                    |\r\n",
    "| Apache Zeppelin            |\r\n"
   ]
  },
  {
   "cell_type": "markdown",
   "id": "8da04313-4dbe-4003-824e-8c0fbe1cd903",
   "metadata": {},
   "source": [
    "### Below are a few examples of evaluating arithmetic expressions in Python."
   ]
  },
  {
   "cell_type": "code",
   "execution_count": 4,
   "id": "4e39ee05-e624-4f37-b080-be14ec22cc8b",
   "metadata": {},
   "outputs": [
    {
     "data": {
      "text/plain": [
       "17"
      ]
     },
     "execution_count": 4,
     "metadata": {},
     "output_type": "execute_result"
    }
   ],
   "source": [
    "# This is a simple arithmetic expression to multiply then add integers\n",
    "(3 * 4) + 5\n"
   ]
  },
  {
   "cell_type": "code",
   "execution_count": 5,
   "id": "d278e635-38db-4067-b8dd-f779d7638260",
   "metadata": {},
   "outputs": [
    {
     "data": {
      "text/plain": [
       "3.3333333333333335"
      ]
     },
     "execution_count": 5,
     "metadata": {},
     "output_type": "execute_result"
    }
   ],
   "source": [
    "# This will convert 200 minutes to hours by dividing by 60\n",
    "200 / 60"
   ]
  },
  {
   "cell_type": "markdown",
   "id": "da39f436-7354-47e1-b1df-6391c4a2192e",
   "metadata": {},
   "source": [
    "## Author\n",
    "Madhav Kummara\n"
   ]
  },
  {
   "cell_type": "code",
   "execution_count": null,
   "id": "75527f7a-c251-4a83-9dc3-28abc9b5a990",
   "metadata": {},
   "outputs": [],
   "source": []
  }
 ],
 "metadata": {
  "kernelspec": {
   "display_name": "Python 3 (ipykernel)",
   "language": "python",
   "name": "python3"
  },
  "language_info": {
   "codemirror_mode": {
    "name": "ipython",
    "version": 3
   },
   "file_extension": ".py",
   "mimetype": "text/x-python",
   "name": "python",
   "nbconvert_exporter": "python",
   "pygments_lexer": "ipython3",
   "version": "3.12.5"
  }
 },
 "nbformat": 4,
 "nbformat_minor": 5
}
